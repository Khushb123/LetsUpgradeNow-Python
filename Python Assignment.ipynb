{
 "cells": [
  {
   "cell_type": "markdown",
   "id": "6a51b0dd",
   "metadata": {},
   "source": [
    "* Python Program for simple interest\n",
    "\n",
    "\n",
    "Simple interest formula is given by: \n",
    "\n",
    "Simple Interest = (P x T x R)/100 \n",
    "\n",
    "Where, P is the principal amount \n",
    "\n",
    "T is the time  \n",
    "\n",
    "R is the rate."
   ]
  },
  {
   "cell_type": "code",
   "execution_count": 2,
   "id": "b20f7d03",
   "metadata": {},
   "outputs": [
    {
     "name": "stdout",
     "output_type": "stream",
     "text": [
      "The principal:  15\n",
      "The time period:  3\n",
      "The rate of interest:  2\n",
      "The Simple Interest is 0.9\n"
     ]
    },
    {
     "data": {
      "text/plain": [
       "0.9"
      ]
     },
     "execution_count": 2,
     "metadata": {},
     "output_type": "execute_result"
    }
   ],
   "source": [
    "def simpleinterest(p,t,r):\n",
    "    print('The principal: ', p)\n",
    "    print('The time period: ', t)\n",
    "    print('The rate of interest: ',r)\n",
    "    si = (p * t * r)/100\n",
    "    print('The Simple Interest is', si)\n",
    "    return si\n",
    "simpleinterest(15,3,2)"
   ]
  },
  {
   "cell_type": "markdown",
   "id": "019df221",
   "metadata": {},
   "source": [
    "* Python program to find smallest number in a list\n",
    "Using function \n",
    "Input : list1 = [5, 7, 9, 14, 10, 20, 4] \n",
    "Output : 4"
   ]
  },
  {
   "cell_type": "code",
   "execution_count": 3,
   "id": "43b4eacc",
   "metadata": {},
   "outputs": [
    {
     "name": "stdout",
     "output_type": "stream",
     "text": [
      "Smallest element:   1\n"
     ]
    }
   ],
   "source": [
    "list1 = [20,9,50,98,1,10]\n",
    "list1.sort()\n",
    "print(\"Smallest element:  \", list1[0])"
   ]
  },
  {
   "cell_type": "markdown",
   "id": "5faf336a",
   "metadata": {},
   "source": [
    "* Python Program for factorial of a number using function, loop and if else conditions.\n",
    "\n",
    "For example factorial of 5 is 5*4*3*2*1 which is 120\n",
    "\n",
    "Input =5\n",
    "\n",
    "Output =120"
   ]
  },
  {
   "cell_type": "code",
   "execution_count": 7,
   "id": "b0e1b40a",
   "metadata": {},
   "outputs": [
    {
     "name": "stdout",
     "output_type": "stream",
     "text": [
      "Number to calculate the factiorial: 6\n",
      "720\n"
     ]
    }
   ],
   "source": [
    "def factorial(n):\n",
    "    if n == 0:\n",
    "        return 1\n",
    "    else:\n",
    "        return n * factorial(n-1)\n",
    "n=int(input(\"Number to calculate the factiorial: \"))\n",
    "print(factorial(n))"
   ]
  },
  {
   "cell_type": "code",
   "execution_count": null,
   "id": "3f27d25d",
   "metadata": {},
   "outputs": [],
   "source": []
  }
 ],
 "metadata": {
  "kernelspec": {
   "display_name": "Python 3 (ipykernel)",
   "language": "python",
   "name": "python3"
  },
  "language_info": {
   "codemirror_mode": {
    "name": "ipython",
    "version": 3
   },
   "file_extension": ".py",
   "mimetype": "text/x-python",
   "name": "python",
   "nbconvert_exporter": "python",
   "pygments_lexer": "ipython3",
   "version": "3.9.7"
  }
 },
 "nbformat": 4,
 "nbformat_minor": 5
}
